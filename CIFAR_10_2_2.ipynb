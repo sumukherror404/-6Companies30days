{
  "nbformat": 4,
  "nbformat_minor": 0,
  "metadata": {
    "colab": {
      "name": "CIFAR-10-2.ipynb",
      "provenance": [],
      "collapsed_sections": [],
      "authorship_tag": "ABX9TyNvK6UWZuPZuR9Q8898dW/t",
      "include_colab_link": true
    },
    "kernelspec": {
      "name": "python3",
      "display_name": "Python 3"
    },
    "language_info": {
      "name": "python"
    }
  },
  "cells": [
    {
      "cell_type": "markdown",
      "metadata": {
        "id": "view-in-github",
        "colab_type": "text"
      },
      "source": [
        "<a href=\"https://colab.research.google.com/github/sumukherror404/-6Companies30days/blob/main/CIFAR_10_2_2.ipynb\" target=\"_parent\"><img src=\"https://colab.research.google.com/assets/colab-badge.svg\" alt=\"Open In Colab\"/></a>"
      ]
    },
    {
      "cell_type": "code",
      "execution_count": 2,
      "metadata": {
        "id": "34VUUQKL-pV1"
      },
      "outputs": [],
      "source": [
        "#importing the required libraries\n",
        "import torch\n",
        "from torch import nn\n",
        "from torch.utils.data import DataLoader\n",
        "from torchvision import datasets\n",
        "from torchvision.transforms import ToTensor\n",
        "import matplotlib.pyplot as plt"
      ]
    },
    {
      "cell_type": "code",
      "source": [
        "#Loading the dataset into training and testing dataset\n",
        "training_data = datasets.CIFAR10(\n",
        "    root = \"data\",\n",
        "    train = True,\n",
        "    download = True,\n",
        "    transform = ToTensor()\n",
        ")\n"
      ],
      "metadata": {
        "colab": {
          "base_uri": "https://localhost:8080/"
        },
        "id": "uB1CLVnA-_lm",
        "outputId": "c2e7b3bd-4ea6-4cf5-dbf1-898b5adb4c65"
      },
      "execution_count": 12,
      "outputs": [
        {
          "output_type": "stream",
          "name": "stdout",
          "text": [
            "Files already downloaded and verified\n"
          ]
        }
      ]
    },
    {
      "cell_type": "code",
      "source": [
        "testing_data = datasets.CIFAR10(\n",
        "    root = \"data\",\n",
        "    train = True,\n",
        "    download = True,\n",
        "    transform = ToTensor()\n",
        ")"
      ],
      "metadata": {
        "colab": {
          "base_uri": "https://localhost:8080/"
        },
        "id": "yccntxFO_WIa",
        "outputId": "8fefd3a0-a1b7-4937-a2f1-e3b37d85a301"
      },
      "execution_count": 13,
      "outputs": [
        {
          "output_type": "stream",
          "name": "stdout",
          "text": [
            "Files already downloaded and verified\n"
          ]
        }
      ]
    },
    {
      "cell_type": "code",
      "source": [
        "#preparing the dataloaders\n",
        "train_data = DataLoader(training_data, batch_size = 64, shuffle = True)\n",
        "test_data = DataLoader(testing_data, batch_size = 64, shuffle = True)\n"
      ],
      "metadata": {
        "id": "bnNCKS7k_k_L"
      },
      "execution_count": 14,
      "outputs": []
    },
    {
      "cell_type": "code",
      "source": [
        "class NeuralNetwork(nn.Module):\n",
        "  def __init__(self):\n",
        "    super(NeuralNetwork,self).__init__()\n",
        "    self.flatten = nn.Flatten()\n",
        "    self.layer1 = nn.Linear(32*32*3,512)\n",
        "    self.layer2 = nn.Linear(512,100)\n",
        "    self.layer3 = nn.Linear(100,10)\n",
        "    self.activ = nn.ReLU()\n",
        "    self.norma = nn.BatchNorm1d(512)\n",
        "    self.norma2 = nn.BatchNorm1d(100)\n",
        "    #self.dropout = nn.Dropout(0.5)\n",
        "  def forward(self,x):\n",
        "    x = self.flatten(x)\n",
        "    x = self.layer1(x)\n",
        "    x = self.norma(x)\n",
        "    x = self.activ(x)\n",
        "    x = self.layer2(x)\n",
        "    x = self.norma2(x)\n",
        "    x = self.activ(x)\n",
        "    x = self.layer3(x)\n",
        "    return x"
      ],
      "metadata": {
        "id": "vwH3n80wAAX_"
      },
      "execution_count": 15,
      "outputs": []
    },
    {
      "cell_type": "code",
      "source": [
        "model = NeuralNetwork()\n",
        "learning_rate = 1e-3\n"
      ],
      "metadata": {
        "id": "r3UKK08SGMpx"
      },
      "execution_count": 16,
      "outputs": []
    },
    {
      "cell_type": "code",
      "source": [
        "loss_fn = nn.CrossEntropyLoss()\n",
        "optimizer = torch.optim.SGD(model.parameters(), lr=learning_rate)\n",
        "train_accuracy = []\n",
        "train_loss = []\n",
        "def train_loop(dataloader, model, loss_fn, optimizer):\n",
        "    size = len(dataloader.dataset)\n",
        "    for batch, (X, y) in enumerate(dataloader):\n",
        "        # Compute prediction and loss\n",
        "        pred = model(X)\n",
        "        loss = loss_fn(pred, y)\n",
        "\n",
        "        # Backpropagation\n",
        "        optimizer.zero_grad()\n",
        "        loss.backward()\n",
        "        optimizer.step()\n",
        "        if batch % 100 == 0:\n",
        "            loss, current = loss.item(), batch * len(X)\n",
        "            print(f\"loss: {loss:>7f}  [{current:>5d}/{size:>5d}]\")\n",
        "        test_loss, correct = 0, 0\n",
        "\n",
        "        size = len(dataloader.dataset)\n",
        "        num_batches = len(dataloader)\n",
        "        train_loss, correct = 0, 0\n",
        "\n",
        "        with torch.no_grad():\n",
        "            for X, y in dataloader:\n",
        "                pred = model(X)\n",
        "                train_loss += loss_fn(pred, y).item()\n",
        "                correct += (pred.argmax(1) == y).type(torch.float).sum().item()\n",
        "\n",
        "        train_loss /= num_batches\n",
        "        correct /= size\n",
        "        train_accuracy.append(correct * 100)\n",
        "        train_loss.append(train_loss)\n",
        "\n",
        "test_accuracy= []\n",
        "test_loss_list = []     \n",
        "def test_loop(dataloader, model, loss_fn):\n",
        "    size = len(dataloader.dataset)\n",
        "    num_batches = len(dataloader)\n",
        "    test_loss, correct = 0, 0\n",
        "\n",
        "    with torch.no_grad():\n",
        "        for X, y in dataloader:\n",
        "            pred = model(X)\n",
        "            test_loss += loss_fn(pred, y).item()\n",
        "            correct += (pred.argmax(1) == y).type(torch.float).sum().item()\n",
        "\n",
        "    test_loss /= num_batches\n",
        "    correct /= size\n",
        "    test_accuracy.append(correct * 100)\n",
        "    test_loss_list.append(test_loss)\n",
        "    print(f\"Test Error: \\n Accuracy: {(100*correct):>0.1f}%, Avg loss: {test_loss:>8f} \\n\")"
      ],
      "metadata": {
        "id": "qrpDTQOLHZSM"
      },
      "execution_count": 31,
      "outputs": []
    },
    {
      "cell_type": "code",
      "source": [
        "loss_fn = nn.CrossEntropyLoss()\n",
        "optimizer = torch.optim.SGD(model.parameters(), lr=learning_rate,weight_decay= 1e-4,momentum=0.9)\n",
        "\n",
        "epochs = 15\n",
        "for t in range(epochs):\n",
        "    print(f\"Epoch {t+1}\\n-------------------------------\")\n",
        "    train_loop(train_data, model, loss_fn, optimizer)\n",
        "    test_loop(test_data, model, loss_fn)\n",
        "print(\"Done!\")  "
      ],
      "metadata": {
        "colab": {
          "base_uri": "https://localhost:8080/"
        },
        "id": "FuTkLKLCHeld",
        "outputId": "5f183f0d-3104-49ee-bd7c-85e8a9c30b96"
      },
      "execution_count": 56,
      "outputs": [
        {
          "output_type": "stream",
          "name": "stdout",
          "text": [
            "Epoch 1\n",
            "-------------------------------\n",
            "loss: 0.223282  [    0/50000]\n",
            "loss: 0.392832  [ 6400/50000]\n",
            "loss: 0.392844  [12800/50000]\n",
            "loss: 0.247482  [19200/50000]\n",
            "loss: 0.180261  [25600/50000]\n",
            "loss: 0.337501  [32000/50000]\n",
            "loss: 0.411510  [38400/50000]\n",
            "loss: 0.222622  [44800/50000]\n",
            "Test Error: \n",
            " Accuracy: 89.9%, Avg loss: 0.310596 \n",
            "\n",
            "Epoch 2\n",
            "-------------------------------\n",
            "loss: 0.229369  [    0/50000]\n",
            "loss: 0.391964  [ 6400/50000]\n",
            "loss: 0.227631  [12800/50000]\n",
            "loss: 0.352450  [19200/50000]\n",
            "loss: 0.280353  [25600/50000]\n",
            "loss: 0.450306  [32000/50000]\n",
            "loss: 0.247733  [38400/50000]\n",
            "loss: 0.311531  [44800/50000]\n",
            "Test Error: \n",
            " Accuracy: 90.6%, Avg loss: 0.292795 \n",
            "\n",
            "Epoch 3\n",
            "-------------------------------\n",
            "loss: 0.222741  [    0/50000]\n",
            "loss: 0.200781  [ 6400/50000]\n",
            "loss: 0.300148  [12800/50000]\n",
            "loss: 0.320281  [19200/50000]\n",
            "loss: 0.215496  [25600/50000]\n",
            "loss: 0.586577  [32000/50000]\n",
            "loss: 0.259364  [38400/50000]\n",
            "loss: 0.343808  [44800/50000]\n",
            "Test Error: \n",
            " Accuracy: 90.9%, Avg loss: 0.281515 \n",
            "\n",
            "Epoch 4\n",
            "-------------------------------\n",
            "loss: 0.312798  [    0/50000]\n",
            "loss: 0.313163  [ 6400/50000]\n",
            "loss: 0.191410  [12800/50000]\n",
            "loss: 0.296176  [19200/50000]\n",
            "loss: 0.160696  [25600/50000]\n",
            "loss: 0.220612  [32000/50000]\n",
            "loss: 0.158363  [38400/50000]\n",
            "loss: 0.347260  [44800/50000]\n",
            "Test Error: \n",
            " Accuracy: 91.4%, Avg loss: 0.270723 \n",
            "\n",
            "Epoch 5\n",
            "-------------------------------\n",
            "loss: 0.376210  [    0/50000]\n",
            "loss: 0.367321  [ 6400/50000]\n",
            "loss: 0.386197  [12800/50000]\n",
            "loss: 0.280700  [19200/50000]\n",
            "loss: 0.286710  [25600/50000]\n",
            "loss: 0.266755  [32000/50000]\n",
            "loss: 0.182849  [38400/50000]\n",
            "loss: 0.332084  [44800/50000]\n",
            "Test Error: \n",
            " Accuracy: 92.5%, Avg loss: 0.241566 \n",
            "\n",
            "Epoch 6\n",
            "-------------------------------\n",
            "loss: 0.191224  [    0/50000]\n",
            "loss: 0.360295  [ 6400/50000]\n",
            "loss: 0.133143  [12800/50000]\n",
            "loss: 0.396961  [19200/50000]\n",
            "loss: 0.373355  [25600/50000]\n",
            "loss: 0.329841  [32000/50000]\n",
            "loss: 0.293150  [38400/50000]\n",
            "loss: 0.304176  [44800/50000]\n",
            "Test Error: \n",
            " Accuracy: 92.9%, Avg loss: 0.232074 \n",
            "\n",
            "Epoch 7\n",
            "-------------------------------\n",
            "loss: 0.225445  [    0/50000]\n",
            "loss: 0.196987  [ 6400/50000]\n",
            "loss: 0.367316  [12800/50000]\n",
            "loss: 0.208840  [19200/50000]\n",
            "loss: 0.208539  [25600/50000]\n",
            "loss: 0.230579  [32000/50000]\n",
            "loss: 0.275591  [38400/50000]\n",
            "loss: 0.234259  [44800/50000]\n",
            "Test Error: \n",
            " Accuracy: 93.2%, Avg loss: 0.224128 \n",
            "\n",
            "Epoch 8\n",
            "-------------------------------\n",
            "loss: 0.279062  [    0/50000]\n",
            "loss: 0.335081  [ 6400/50000]\n",
            "loss: 0.243856  [12800/50000]\n",
            "loss: 0.223566  [19200/50000]\n",
            "loss: 0.229459  [25600/50000]\n",
            "loss: 0.232457  [32000/50000]\n",
            "loss: 0.330899  [38400/50000]\n",
            "loss: 0.218173  [44800/50000]\n",
            "Test Error: \n",
            " Accuracy: 92.4%, Avg loss: 0.232201 \n",
            "\n",
            "Epoch 9\n",
            "-------------------------------\n",
            "loss: 0.156073  [    0/50000]\n",
            "loss: 0.243990  [ 6400/50000]\n",
            "loss: 0.289819  [12800/50000]\n",
            "loss: 0.231811  [19200/50000]\n",
            "loss: 0.343307  [25600/50000]\n",
            "loss: 0.383837  [32000/50000]\n",
            "loss: 0.307608  [38400/50000]\n",
            "loss: 0.177398  [44800/50000]\n",
            "Test Error: \n",
            " Accuracy: 94.4%, Avg loss: 0.192580 \n",
            "\n",
            "Epoch 10\n",
            "-------------------------------\n",
            "loss: 0.186660  [    0/50000]\n",
            "loss: 0.172047  [ 6400/50000]\n",
            "loss: 0.205886  [12800/50000]\n",
            "loss: 0.199086  [19200/50000]\n",
            "loss: 0.171643  [25600/50000]\n",
            "loss: 0.250669  [32000/50000]\n",
            "loss: 0.306652  [38400/50000]\n",
            "loss: 0.111516  [44800/50000]\n",
            "Test Error: \n",
            " Accuracy: 93.3%, Avg loss: 0.210350 \n",
            "\n",
            "Epoch 11\n",
            "-------------------------------\n",
            "loss: 0.178659  [    0/50000]\n",
            "loss: 0.244005  [ 6400/50000]\n",
            "loss: 0.243132  [12800/50000]\n",
            "loss: 0.187156  [19200/50000]\n",
            "loss: 0.314293  [25600/50000]\n",
            "loss: 0.114233  [32000/50000]\n",
            "loss: 0.261139  [38400/50000]\n",
            "loss: 0.337510  [44800/50000]\n",
            "Test Error: \n",
            " Accuracy: 93.6%, Avg loss: 0.206412 \n",
            "\n",
            "Epoch 12\n",
            "-------------------------------\n",
            "loss: 0.269369  [    0/50000]\n",
            "loss: 0.076066  [ 6400/50000]\n",
            "loss: 0.139133  [12800/50000]\n",
            "loss: 0.247450  [19200/50000]\n",
            "loss: 0.209913  [25600/50000]\n",
            "loss: 0.094806  [32000/50000]\n",
            "loss: 0.137178  [38400/50000]\n",
            "loss: 0.204499  [44800/50000]\n",
            "Test Error: \n",
            " Accuracy: 94.6%, Avg loss: 0.181110 \n",
            "\n",
            "Epoch 13\n",
            "-------------------------------\n",
            "loss: 0.184944  [    0/50000]\n",
            "loss: 0.209557  [ 6400/50000]\n",
            "loss: 0.125009  [12800/50000]\n",
            "loss: 0.412629  [19200/50000]\n",
            "loss: 0.203152  [25600/50000]\n",
            "loss: 0.303595  [32000/50000]\n",
            "loss: 0.302563  [38400/50000]\n",
            "loss: 0.181732  [44800/50000]\n",
            "Test Error: \n",
            " Accuracy: 94.7%, Avg loss: 0.177716 \n",
            "\n",
            "Epoch 14\n",
            "-------------------------------\n",
            "loss: 0.191342  [    0/50000]\n",
            "loss: 0.183738  [ 6400/50000]\n",
            "loss: 0.136784  [12800/50000]\n",
            "loss: 0.154574  [19200/50000]\n",
            "loss: 0.147610  [25600/50000]\n",
            "loss: 0.192038  [32000/50000]\n",
            "loss: 0.213208  [38400/50000]\n",
            "loss: 0.216155  [44800/50000]\n",
            "Test Error: \n",
            " Accuracy: 94.8%, Avg loss: 0.170371 \n",
            "\n",
            "Epoch 15\n",
            "-------------------------------\n",
            "loss: 0.129027  [    0/50000]\n",
            "loss: 0.262477  [ 6400/50000]\n",
            "loss: 0.156130  [12800/50000]\n",
            "loss: 0.247449  [19200/50000]\n",
            "loss: 0.276490  [25600/50000]\n",
            "loss: 0.122126  [32000/50000]\n",
            "loss: 0.169329  [38400/50000]\n",
            "loss: 0.217976  [44800/50000]\n",
            "Test Error: \n",
            " Accuracy: 95.4%, Avg loss: 0.157878 \n",
            "\n",
            "Done!\n"
          ]
        }
      ]
    },
    {
      "cell_type": "code",
      "source": [
        ""
      ],
      "metadata": {
        "id": "3J-JK17ahSlb"
      },
      "execution_count": null,
      "outputs": []
    }
  ]
}